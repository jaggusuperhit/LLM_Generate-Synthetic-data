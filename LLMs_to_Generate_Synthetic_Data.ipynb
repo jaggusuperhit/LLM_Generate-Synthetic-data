{
  "cells": [
    {
      "cell_type": "code",
      "execution_count": 1,
      "metadata": {
        "id": "tCjLQOWu7CEE"
      },
      "outputs": [
        {
          "name": "stdout",
          "output_type": "stream",
          "text": [
            "Requirement already satisfied: pandas in d:\\llm_ops\\llm_generate-synthetic-data\\myenv\\lib\\site-packages (2.2.3)Note: you may need to restart the kernel to use updated packages.\n",
            "\n",
            "Requirement already satisfied: python-dotenv in d:\\llm_ops\\llm_generate-synthetic-data\\myenv\\lib\\site-packages (1.1.0)\n",
            "Requirement already satisfied: requests in d:\\llm_ops\\llm_generate-synthetic-data\\myenv\\lib\\site-packages (2.32.3)\n",
            "Requirement already satisfied: numpy>=1.22.4 in d:\\llm_ops\\llm_generate-synthetic-data\\myenv\\lib\\site-packages (from pandas) (2.2.5)\n",
            "Requirement already satisfied: python-dateutil>=2.8.2 in d:\\llm_ops\\llm_generate-synthetic-data\\myenv\\lib\\site-packages (from pandas) (2.9.0.post0)\n",
            "Requirement already satisfied: pytz>=2020.1 in d:\\llm_ops\\llm_generate-synthetic-data\\myenv\\lib\\site-packages (from pandas) (2025.2)\n",
            "Requirement already satisfied: tzdata>=2022.7 in d:\\llm_ops\\llm_generate-synthetic-data\\myenv\\lib\\site-packages (from pandas) (2025.2)\n",
            "Requirement already satisfied: charset-normalizer<4,>=2 in d:\\llm_ops\\llm_generate-synthetic-data\\myenv\\lib\\site-packages (from requests) (3.4.2)\n",
            "Requirement already satisfied: idna<4,>=2.5 in d:\\llm_ops\\llm_generate-synthetic-data\\myenv\\lib\\site-packages (from requests) (3.10)\n",
            "Requirement already satisfied: urllib3<3,>=1.21.1 in d:\\llm_ops\\llm_generate-synthetic-data\\myenv\\lib\\site-packages (from requests) (2.4.0)\n",
            "Requirement already satisfied: certifi>=2017.4.17 in d:\\llm_ops\\llm_generate-synthetic-data\\myenv\\lib\\site-packages (from requests) (2025.4.26)\n",
            "Requirement already satisfied: six>=1.5 in d:\\llm_ops\\llm_generate-synthetic-data\\myenv\\lib\\site-packages (from python-dateutil>=2.8.2->pandas) (1.17.0)\n"
          ]
        }
      ],
      "source": [
        "%pip install pandas python-dotenv requests"
      ]
    },
    {
      "cell_type": "code",
      "execution_count": null,
      "metadata": {
        "id": "KNNjvLRC7OAw"
      },
      "outputs": [],
      "source": [
        "import os\n",
        "import pandas as pd\n",
        "from io import StringIO\n",
        "from dotenv import load_dotenv, find_dotenv"
      ]
    },
    {
      "cell_type": "code",
      "execution_count": 3,
      "metadata": {
        "id": "mIXUm_7b7N-Y"
      },
      "outputs": [
        {
          "name": "stdout",
          "output_type": "stream",
          "text": [
            "Using model: openai/gpt-3.5-turbo\n"
          ]
        }
      ],
      "source": [
        "# Load environment variables\n",
        "_ = load_dotenv(find_dotenv())\n",
        "\n",
        "# Get OpenRouter API key and model from environment variables\n",
        "openrouter_api_key = os.environ.get(\"OPENROUTER_API_KEY\")\n",
        "openrouter_model = os.environ.get(\"OPENROUTER_MODEL\", \"openai/gpt-3.5-turbo\")\n",
        "\n",
        "print(f\"Using model: {openrouter_model}\")"
      ]
    },
    {
      "cell_type": "code",
      "execution_count": 4,
      "metadata": {
        "id": "KjVS56xY7N8A"
      },
      "outputs": [],
      "source": [
        "# Prompt to generate synthetic data\n",
        "prompt = \"\"\"\n",
        "Generate 10 rows of synthetic data for sentiment classification.\n",
        "Each row should have two columns: \"text\" (a sentence) and \"label\" (positive or negative).\n",
        "Return the data as a CSV format with headers: text,label.\n",
        "\"\"\""
      ]
    },
    {
      "cell_type": "code",
      "execution_count": null,
      "metadata": {
        "id": "TY07fgZP7N5g"
      },
      "outputs": [],
      "source": [
        "# Using OpenRouter API instead of OpenAI\n",
        "import requests\n",
        "\n",
        "\n",
        "# OpenRouter API endpoint\n",
        "url = \"https://openrouter.ai/api/v1/chat/completions\"\n",
        "\n",
        "# Headers\n",
        "headers = {\n",
        "    \"Authorization\": f\"Bearer {openrouter_api_key}\",\n",
        "    \"Content-Type\": \"application/json\"\n",
        "}\n",
        "\n",
        "# Request body\n",
        "data = {\n",
        "    \"model\": openrouter_model,\n",
        "    \"messages\": [{\"role\": \"user\", \"content\": prompt}],\n",
        "    \"temperature\": 0.7\n",
        "}\n",
        "\n",
        "# Make the API call\n",
        "response = requests.post(url, headers=headers, json=data)\n",
        "response_data = response.json()"
      ]
    },
    {
      "cell_type": "code",
      "execution_count": 6,
      "metadata": {
        "id": "ilfh_gnu755x"
      },
      "outputs": [],
      "source": [
        "# Extract the content from the response\n",
        "csv_text = response_data['choices'][0]['message']['content']"
      ]
    },
    {
      "cell_type": "code",
      "execution_count": 7,
      "metadata": {
        "id": "97n06o-Q8FFg"
      },
      "outputs": [
        {
          "data": {
            "text/plain": [
              "\"text,label\\nI love spending time with my family,positive\\nThe food at that restaurant was terrible,negative\\nI feel happy when I'm surrounded by nature,positive\\nThe customer service at that store was amazing,positive\\nI can't stand being stuck in traffic,negative\\nWatching the sunset always puts me in a good mood,positive\\nThe movie I watched last night was so boring,negative\\nI am grateful for all the opportunities in my life,positive\\nI had a terrible day at work today,negative\\nI feel so lucky to have such supportive friends,positive\""
            ]
          },
          "execution_count": 7,
          "metadata": {},
          "output_type": "execute_result"
        }
      ],
      "source": [
        "csv_text"
      ]
    },
    {
      "cell_type": "code",
      "execution_count": 8,
      "metadata": {
        "id": "SAux5hV48HnY"
      },
      "outputs": [],
      "source": [
        "df = pd.read_csv(StringIO(csv_text))"
      ]
    },
    {
      "cell_type": "code",
      "execution_count": 9,
      "metadata": {
        "id": "CfnLRXwt8QpQ"
      },
      "outputs": [
        {
          "data": {
            "text/html": [
              "<div>\n",
              "<style scoped>\n",
              "    .dataframe tbody tr th:only-of-type {\n",
              "        vertical-align: middle;\n",
              "    }\n",
              "\n",
              "    .dataframe tbody tr th {\n",
              "        vertical-align: top;\n",
              "    }\n",
              "\n",
              "    .dataframe thead th {\n",
              "        text-align: right;\n",
              "    }\n",
              "</style>\n",
              "<table border=\"1\" class=\"dataframe\">\n",
              "  <thead>\n",
              "    <tr style=\"text-align: right;\">\n",
              "      <th></th>\n",
              "      <th>text</th>\n",
              "      <th>label</th>\n",
              "    </tr>\n",
              "  </thead>\n",
              "  <tbody>\n",
              "    <tr>\n",
              "      <th>0</th>\n",
              "      <td>I love spending time with my family</td>\n",
              "      <td>positive</td>\n",
              "    </tr>\n",
              "    <tr>\n",
              "      <th>1</th>\n",
              "      <td>The food at that restaurant was terrible</td>\n",
              "      <td>negative</td>\n",
              "    </tr>\n",
              "    <tr>\n",
              "      <th>2</th>\n",
              "      <td>I feel happy when I'm surrounded by nature</td>\n",
              "      <td>positive</td>\n",
              "    </tr>\n",
              "    <tr>\n",
              "      <th>3</th>\n",
              "      <td>The customer service at that store was amazing</td>\n",
              "      <td>positive</td>\n",
              "    </tr>\n",
              "    <tr>\n",
              "      <th>4</th>\n",
              "      <td>I can't stand being stuck in traffic</td>\n",
              "      <td>negative</td>\n",
              "    </tr>\n",
              "    <tr>\n",
              "      <th>5</th>\n",
              "      <td>Watching the sunset always puts me in a good mood</td>\n",
              "      <td>positive</td>\n",
              "    </tr>\n",
              "    <tr>\n",
              "      <th>6</th>\n",
              "      <td>The movie I watched last night was so boring</td>\n",
              "      <td>negative</td>\n",
              "    </tr>\n",
              "    <tr>\n",
              "      <th>7</th>\n",
              "      <td>I am grateful for all the opportunities in my ...</td>\n",
              "      <td>positive</td>\n",
              "    </tr>\n",
              "    <tr>\n",
              "      <th>8</th>\n",
              "      <td>I had a terrible day at work today</td>\n",
              "      <td>negative</td>\n",
              "    </tr>\n",
              "    <tr>\n",
              "      <th>9</th>\n",
              "      <td>I feel so lucky to have such supportive friends</td>\n",
              "      <td>positive</td>\n",
              "    </tr>\n",
              "  </tbody>\n",
              "</table>\n",
              "</div>"
            ],
            "text/plain": [
              "                                                text     label\n",
              "0                I love spending time with my family  positive\n",
              "1           The food at that restaurant was terrible  negative\n",
              "2         I feel happy when I'm surrounded by nature  positive\n",
              "3     The customer service at that store was amazing  positive\n",
              "4               I can't stand being stuck in traffic  negative\n",
              "5  Watching the sunset always puts me in a good mood  positive\n",
              "6       The movie I watched last night was so boring  negative\n",
              "7  I am grateful for all the opportunities in my ...  positive\n",
              "8                 I had a terrible day at work today  negative\n",
              "9    I feel so lucky to have such supportive friends  positive"
            ]
          },
          "execution_count": 9,
          "metadata": {},
          "output_type": "execute_result"
        }
      ],
      "source": [
        "df"
      ]
    },
    {
      "cell_type": "code",
      "execution_count": 10,
      "metadata": {
        "id": "p5k7-hlX8Rto"
      },
      "outputs": [],
      "source": [
        "ner_prompt = \"\"\"\n",
        "Generate 5 sentences with entities in format:\n",
        "{\"text\": \"sentence here\", \"entities\": [{\"word\": \"entity\", \"label\": \"ORG\"}, ...]}\n",
        "Entities should be PERSON, ORG, LOCATION only.\n",
        "\"\"\""
      ]
    },
    {
      "cell_type": "code",
      "execution_count": 11,
      "metadata": {
        "id": "new_cell_1"
      },
      "outputs": [],
      "source": [
        "# Using OpenRouter API for NER task\n",
        "# Headers remain the same as before\n",
        "\n",
        "# Request body for NER task\n",
        "ner_data = {\n",
        "    \"model\": openrouter_model,\n",
        "    \"messages\": [{\"role\": \"user\", \"content\": ner_prompt}],\n",
        "    \"temperature\": 0.7\n",
        "}\n",
        "\n",
        "# Make the API call\n",
        "ner_response = requests.post(url, headers=headers, json=ner_data)\n",
        "ner_response_data = ner_response.json()"
      ]
    },
    {
      "cell_type": "code",
      "execution_count": 12,
      "metadata": {
        "id": "new_cell_2"
      },
      "outputs": [
        {
          "name": "stdout",
          "output_type": "stream",
          "text": [
            "1. {\"text\": \"John works at Apple Inc. in Cupertino, California.\", \"entities\": [{\"word\": \"John\", \"label\": \"PERSON\"}, {\"word\": \"Apple Inc.\", \"label\": \"ORG\"}, {\"word\": \"Cupertino, California\", \"label\": \"LOCATION\"}]}\n",
            "2. {\"text\": \"The CEO of Microsoft, Satya Nadella, will be speaking at the conference in Seattle next week.\", \"entities\": [{\"word\": \"Satya Nadella\", \"label\": \"PERSON\"}, {\"word\": \"Microsoft\", \"label\": \"ORG\"}, {\"word\": \"Seattle\", \"label\": \"LOCATION\"}]}\n",
            "3. {\"text\": \"Sarah is a designer at Google in Mountain View, California.\", \"entities\": [{\"word\": \"Sarah\", \"label\": \"PERSON\"}, {\"word\": \"Google\", \"label\": \"ORG\"}, {\"word\": \"Mountain View, California\", \"label\": \"LOCATION\"}]}\n",
            "4. {\"text\": \"The mayor of New York City, Bill de Blasio, announced a new initiative to improve public transportation.\", \"entities\": [{\"word\": \"Bill de Blasio\", \"label\": \"PERSON\"}, {\"word\": \"New York City\", \"label\": \"LOCATION\"}]}\n",
            "5. {\"text\": \"Mark Zuckerberg founded Facebook in Menlo Park, California.\", \"entities\": [{\"word\": \"Mark Zuckerberg\", \"label\": \"PERSON\"}, {\"word\": \"Facebook\", \"label\": \"ORG\"}, {\"word\": \"Menlo Park, California\", \"label\": \"LOCATION\"}]}\n"
          ]
        }
      ],
      "source": [
        "# Extract the NER content from the response\n",
        "ner_text = ner_response_data['choices'][0]['message']['content']\n",
        "print(ner_text)"
      ]
    },
    {
      "cell_type": "code",
      "execution_count": null,
      "metadata": {},
      "outputs": [],
      "source": []
    }
  ],
  "metadata": {
    "colab": {
      "provenance": []
    },
    "kernelspec": {
      "display_name": "myenv",
      "language": "python",
      "name": "python3"
    },
    "language_info": {
      "codemirror_mode": {
        "name": "ipython",
        "version": 3
      },
      "file_extension": ".py",
      "mimetype": "text/x-python",
      "name": "python",
      "nbconvert_exporter": "python",
      "pygments_lexer": "ipython3",
      "version": "3.10.9"
    }
  },
  "nbformat": 4,
  "nbformat_minor": 0
}
